{
 "cells": [
  {
   "cell_type": "markdown",
   "id": "0c0ffb53",
   "metadata": {},
   "source": [
    "## Analyzing BTC-to-USD Daily Price Changes in Q3 2023\n"
   ]
  },
  {
   "cell_type": "markdown",
   "id": "c1ce8d23",
   "metadata": {},
   "source": [
    "### Introduction"
   ]
  },
  {
   "cell_type": "markdown",
   "id": "ca364b3e",
   "metadata": {},
   "source": [
    "This report focuses on the analysis of Bitcoin (BTC) to USD daily price changes during the third quarter of 2023 (Q3 2023). The dataset was obtained by downloading the latest daily close BTC-to-USD data from Yahoo Finance. The goal is to perform a comprehensive analysis using numpy and matplotlib, covering various statistical measures, visualizations, and insights into the market trends during this period."
   ]
  },
  {
   "cell_type": "markdown",
   "id": "f4a651ec",
   "metadata": {},
   "source": [
    "### 1, 2) Data Loading and Preprocessing:\n"
   ]
  },
  {
   "cell_type": "markdown",
   "id": "a1ee69f4",
   "metadata": {},
   "source": [
    "The initial step involves downloading the dataset from Yahoo Finance and preprocessing it to isolate the necessary numeric values in the Close column. The cleaned data is exported to a CSV file, which is then read using numpy.genfromtxt for further analysis."
   ]
  },
  {
   "cell_type": "code",
   "execution_count": 1,
   "id": "4d91eba3",
   "metadata": {},
   "outputs": [],
   "source": [
    "# Import necessary libraries\n",
    "import numpy as np\n",
    "import matplotlib.pyplot as plt"
   ]
  },
  {
   "cell_type": "code",
   "execution_count": 2,
   "id": "2705a5ca",
   "metadata": {},
   "outputs": [],
   "source": [
    "# Task 1: Download data and export to CSV (manual step not included in code)\n",
    "data_path = \"C:/Users/Hp/Downloads/BTC-USD.csv\""
   ]
  },
  {
   "cell_type": "code",
   "execution_count": 3,
   "id": "d0845078",
   "metadata": {},
   "outputs": [],
   "source": [
    "# Task 2: Read data using numpy.genfromtxt\n",
    "rates = np.genfromtxt(data_path, delimiter=',')"
   ]
  },
  {
   "cell_type": "markdown",
   "id": "9004b7ec",
   "metadata": {},
   "source": [
    "**Explaination of code:**\n",
    "\n",
    "**1. Import Necessary Libraries:**\n",
    "\n",
    "- **import numpy as np:** Imports the NumPy library and assigns it the alias np for easier reference in the code.\n",
    "- **import matplotlib.pyplot as plt:** Imports the pyplot module from the Matplotlib library and assigns it the alias plt for convenience in creating plots.\n",
    "\n",
    "**2. Define Data Path:**\n",
    "\n",
    "- **data_path = \"C:/Users/Hp/Downloads/BTC-USD.csv\":** Specifies the file path for the CSV file containing BTC-to-USD data. \n",
    "\n",
    "**3. Read Data Using numpy.genfromtxt:**\n",
    "\n",
    "- **rates = np.genfromtxt(data_path, delimiter=','):** Utilizes NumPy's genfromtxt function to read the data from the specified CSV file (data_path). The delimiter=',' parameter indicates that the data is comma-separated. The resulting rates variable now holds the numeric values from the Close column of the BTC-to-USD data.\n",
    "\n",
    "- In summary, this code sets the stage for further analysis by importing essential libraries, specifying the path to the CSV file containing BTC-to-USD data, and using NumPy to read and store the relevant numeric values in the rates variable. Note that the actual download and preprocessing of the data are not included in this code snippet and are assumed to be done manually as a separate step.\n",
    "\n",
    "\n",
    "\n",
    "\n"
   ]
  },
  {
   "cell_type": "markdown",
   "id": "34f31907",
   "metadata": {},
   "source": [
    "### 3) Statistical Analysis for Q3 2023:\n"
   ]
  },
  {
   "cell_type": "markdown",
   "id": "131d68bc",
   "metadata": {},
   "source": [
    "In this section, we calculate and display key aggregates for Q3 2023, such as the arithmetic mean, minimum, first quartile, median, third quartile, maximum, standard deviation, and interquartile range."
   ]
  },
  {
   "cell_type": "code",
   "execution_count": 4,
   "id": "e0be52a5",
   "metadata": {},
   "outputs": [
    {
     "name": "stdout",
     "output_type": "stream",
     "text": [
      "## arithmetic mean: 28116.98\n",
      "## minimum: 25162.65\n",
      "## Q1: 26228.32\n",
      "## median: 29041.86\n",
      "## Q3: 29771.8\n",
      "## maximum: 31476.05\n",
      "## standard deviation: 1833.78\n",
      "## IQR: 3543.48\n"
     ]
    }
   ],
   "source": [
    "# Task 3: Calculate aggregates for Q3 2023\n",
    "q3_data = rates[181:274]  # Q3 2023 days 182-273\n",
    "\n",
    "arithmetic_mean = np.mean(q3_data)\n",
    "minimum = np.min(q3_data)\n",
    "q1 = np.percentile(q3_data, 25)\n",
    "median = np.median(q3_data)\n",
    "q3 = np.percentile(q3_data, 75)\n",
    "maximum = np.max(q3_data)\n",
    "std_deviation = np.std(q3_data)\n",
    "iqr = q3 - q1\n",
    "\n",
    "# Display aggregates\n",
    "print(\"## arithmetic mean:\", round(arithmetic_mean, 2))\n",
    "print(\"## minimum:\", round(minimum, 2))\n",
    "print(\"## Q1:\", round(q1, 2))\n",
    "print(\"## median:\", round(median, 2))\n",
    "print(\"## Q3:\", round(q3, 2))\n",
    "print(\"## maximum:\", round(maximum, 2))\n",
    "print(\"## standard deviation:\", round(std_deviation, 2))\n",
    "print(\"## IQR:\", round(iqr, 2))"
   ]
  },
  {
   "cell_type": "markdown",
   "id": "81efa4f5",
   "metadata": {},
   "source": [
    "**Explaination of code:**\n",
    "\n",
    "**1. Subset Q3 2023 Data:**\n",
    "    \n",
    "- This line extracts a subset of the **_rates_** array, representing the BTC-to-USD data for the third quarter of 2023. The indices 181 to 273 (inclusive) correspond to days 182 to 274.\n",
    "    \n",
    "**2. Calculate Aggregates:**\n",
    "\n",
    "These lines use NumPy functions to calculate various aggregates for the Q3 2023 data:\n",
    "- **arithmetic_mean:** The mean (average) of the data.\n",
    "- **minimum:** The minimum value observed.\n",
    "- **q1:** The first quartile (25th percentile).\n",
    "- **median:** The median value.\n",
    "- **q3:** The third quartile (75th percentile).\n",
    "- **maximum:** The maximum value observed.\n",
    "- **std_deviation:** The standard deviation of the data.\n",
    "- **iqr:** The interquartile range (difference between the third and first quartiles).\n",
    "    \n",
    "**3. Display Aggregates:**\n",
    "\n",
    "- These lines print out the calculated aggregates in a readable format using the **_print_** function. Each aggregate is displayed with a corresponding label.\n",
    "\n",
    "In summary, this code chunk performs statistical analysis on the BTC-to-USD data for Q3 2023, calculating and printing key aggregates such as mean, minimum, quartiles, median, maximum, standard deviation, and interquartile range."
   ]
  },
  {
   "cell_type": "markdown",
   "id": "22b612a7",
   "metadata": {},
   "source": [
    "### 4) Visualization of Q3 2023 Data:\n"
   ]
  },
  {
   "cell_type": "markdown",
   "id": "5bad9c45",
   "metadata": {},
   "source": [
    "We use matplotlib.pyplot.plot to visualize the daily BTC-to-USD data in Q3 2023, highlighting the trend with a red solid line. The plot includes the title \"BTC to USD in Q3 2023\" and relevant axis labels."
   ]
  },
  {
   "cell_type": "code",
   "execution_count": 5,
   "id": "bd4a598d",
   "metadata": {},
   "outputs": [
    {
     "data": {
      "image/png": "[encoded data removed]",
      "text/plain": [
       "<Figure size 432x288 with 1 Axes>"
      ]
     },
     "metadata": {
      "needs_background": "light"
     },
     "output_type": "display_data"
    }
   ],
   "source": [
    "# Task 4: Plot Q3 2023 data using matplotlib.pyplot.plot\n",
    "days = np.arange(182, 275)\n",
    "plt.plot(days, q3_data, color='red', linestyle='solid')\n",
    "plt.title(\"BTC to USD in Q3 2023\")\n",
    "plt.xlabel(\"Day\")\n",
    "plt.ylabel(\"BTC to USD\")\n",
    "plt.show()"
   ]
  },
  {
   "cell_type": "markdown",
   "id": "632c25ed",
   "metadata": {},
   "source": [
    "**Explaination of code:**\n",
    "\n",
    "**Generate Days Array:**\n",
    "    \n",
    "- This line uses NumPy's **_arange_** function to create an array **_days_** containing the range of days from 182 to 274 (inclusive). These values represent the days in Q3 2023, where 182 corresponds to the start of July and 274 corresponds to the end of September.\n",
    "    \n",
    "**Plotting the Data:**\n",
    "\n",
    "- This line uses Matplotlib's **_plot_** function to create a line plot. It takes two main arguments:\n",
    "  - **days:** The x-axis values representing the days in Q3 2023.\n",
    "  - **q3_data:** The y-axis values representing the BTC-to-USD data for each corresponding day.\n",
    "- Additional parameters are used to customize the appearance of the plot:\n",
    "  - **color='red':** Sets the line color to red.\n",
    "  - **linestyle='solid':** Specifies a solid line style.\n",
    "    \n",
    "**Add Plot Title and Axis Labels:**\n",
    "\n",
    "- These lines set the plot title and labels for the x-axis and y-axis, providing context and clarity to the viewer.\n",
    "\n",
    "**Display the Plot:**\n",
    "\n",
    "- This line displays the created plot using Matplotlib's **_show_** function.\n",
    "\n",
    "In summary, this code generates a line plot to visualize the BTC-to-USD data during Q3 2023. The x-axis represents the days, the y-axis represents the corresponding BTC-to-USD values, and the plot is customized with a red solid line, a title, and axis labels for clarity and interpretation."
   ]
  },
  {
   "cell_type": "markdown",
   "id": "5abfd406",
   "metadata": {},
   "source": [
    "### 5) Analysis of Lowest and Highest Prices:\n"
   ]
  },
  {
   "cell_type": "markdown",
   "id": "f809f23e",
   "metadata": {},
   "source": [
    "We determine the day numbers with the lowest and highest observed prices in Q3 2023, providing insights into extreme market conditions during this period."
   ]
  },
  {
   "cell_type": "code",
   "execution_count": 6,
   "id": "5b6296ed",
   "metadata": {},
   "outputs": [
    {
     "name": "stdout",
     "output_type": "stream",
     "text": [
      "## Lowest price was on day 255 ( 25162.65 ).\n",
      "## Highest price was on day 195 ( 31476.05 ).\n"
     ]
    }
   ],
   "source": [
    "# Task 5: Determine the day numbers with lowest and highest observed prices\n",
    "lowest_day = 182 + np.argmin(q3_data)\n",
    "highest_day = 182 + np.argmax(q3_data)\n",
    "\n",
    "print(\"## Lowest price was on day\", lowest_day, \"(\", round(np.min(q3_data), 2), \").\")\n",
    "print(\"## Highest price was on day\", highest_day, \"(\", round(np.max(q3_data), 2), \").\")"
   ]
  },
  {
   "cell_type": "markdown",
   "id": "2b9c9641",
   "metadata": {},
   "source": [
    "**Explaination of code:**\n",
    "\n",
    "**1. Find the Index of Minimum and Maximum Values:**\n",
    "    \n",
    "- These lines use NumPy's **_argmin_** and **_argmax_** functions to find the indices of the minimum and maximum values in the **_q3_data_** array, respectively. These indices represent the positions of the lowest and highest observed prices.\n",
    "\n",
    "**2. Determine the Day Numbers:**\n",
    "\n",
    "- These lines calculate the actual day numbers corresponding to the lowest and highest prices by adding the starting day of Q3 2023 (182) to the respective indices found in the previous step.\n",
    "\n",
    "**3. Print the Results:**\n",
    "\n",
    "- These lines use **_print_** statements to display the results. The printed messages include the day numbers along with the corresponding lowest and highest prices rounded to two decimal places.\n",
    "\n",
    "In summary, this code segment identifies the days with the lowest and highest observed prices in the BTC-to-USD data for Q3 2023. It calculates the day numbers and presents the results using print statements."
   ]
  },
  {
   "cell_type": "markdown",
   "id": "721bfa58",
   "metadata": {},
   "source": [
    "### 6) Box-and-Whisker Plot for Daily Price Changes:\n"
   ]
  },
  {
   "cell_type": "markdown",
   "id": "5f42d6c0",
   "metadata": {},
   "source": [
    "A horizontal box-and-whisker plot is created using matplotlib.pyplot.boxplot to visualize the distribution of BTC-to-USD daily price changes in Q3 2023. The arithmetic mean is marked on the plot with a green \"x.\""
   ]
  },
  {
   "cell_type": "code",
   "execution_count": 7,
   "id": "9e9d4f9f",
   "metadata": {},
   "outputs": [
    {
     "data": {
      "image/png": "[encoded data removed]",
      "text/plain": [
       "<Figure size 864x432 with 1 Axes>"
      ]
     },
     "metadata": {
      "needs_background": "light"
     },
     "output_type": "display_data"
    }
   ],
   "source": [
    "# Step 6: Draw box-and-whisker plot for Q3 2023 daily price changes\n",
    "price_changes = np.diff(q3_data)\n",
    "\n",
    "# Set a larger size for the plot\n",
    "plt.figure(figsize=(12, 6))\n",
    "\n",
    "# Create the boxplot\n",
    "plt.boxplot(price_changes, vert=False)\n",
    "plt.plot(arithmetic_mean, 1, 'gx', markersize=10, label='Arithmetic Mean')\n",
    "plt.title(\"Distribution of BTC-to-USD daily price increases in Q3 2023\")\n",
    "plt.xlabel(\"Price Change\")\n",
    "plt.yticks([])\n",
    "plt.legend()\n",
    "\n",
    "# Show the larger plot\n",
    "plt.show()\n"
   ]
  },
  {
   "cell_type": "markdown",
   "id": "2369d7b6",
   "metadata": {},
   "source": [
    "**Explaination of code:**\n",
    "\n",
    "**1. Calculate Daily Price Changes:**\n",
    "\n",
    "- This line uses NumPy's **_diff_** function to calculate the differences between consecutive elements in the **_q3_data_** array. The result is an array **_price_changes_** representing the daily price changes.\n",
    "\n",
    "**2. Set a Larger Plot Size:**\n",
    "\n",
    "- This line creates a larger plot by setting the figure size to (12, 6) using Matplotlib's **_figure_** function.\n",
    "\n",
    "**3. Create the Box-and-Whisker Plot:**\n",
    "\n",
    "- This line uses Matplotlib's **_boxplot_** function to generate a horizontal box-and-whisker plot for the **_price_changes_** data. The **_vert=False_** parameter specifies a horizontal orientation.\n",
    "\n",
    "**4. Mark the Arithmetic Mean on the Plot:**\n",
    "\n",
    "- This line adds a green 'x' marker on the plot at the position of the arithmetic mean. The marker is labeled as the arithmetic mean, and it helps visually identify the central tendency of the data.\n",
    "\n",
    "**5. Customize Plot Appearance:**\n",
    "\n",
    "- These lines set the plot title, x-axis label, and hide y-axis ticks. The legend is added to indicate the position of the arithmetic mean on the plot.\n",
    "\n",
    "**6. Show the Plot:**\n",
    "\n",
    "- This line displays the generated plot using Matplotlib's **_show_** function.\n",
    "\n",
    "In summary, this code segment creates a box-and-whisker plot to represent the distribution of BTC-to-USD daily price changes in Q3 2023. It highlights the arithmetic mean on the plot and provides visual insights into the spread and central tendency of the data."
   ]
  },
  {
   "cell_type": "markdown",
   "id": "a66a304c",
   "metadata": {},
   "source": [
    "### 7) Outlier Detection:\n"
   ]
  },
  {
   "cell_type": "markdown",
   "id": "3a2c7156",
   "metadata": {},
   "source": [
    "We count the number of outliers in the boxplot using vectorized relational operators from numpy, providing insights into extreme daily price changes."
   ]
  },
  {
   "cell_type": "code",
   "execution_count": 8,
   "id": "b5437de8",
   "metadata": {},
   "outputs": [
    {
     "name": "stdout",
     "output_type": "stream",
     "text": [
      "## There are 92 outliers.\n",
      "Outliers might indicate extreme daily price changes, possibly caused by significant market events.\n"
     ]
    }
   ],
   "source": [
    "# Step 7: Count outliers in the boxplot\n",
    "outliers = np.sum((price_changes < (q1 - 1.5 * iqr)) | (price_changes > (q3 + 1.5 * iqr)))\n",
    "\n",
    "print(\"## There are\", outliers, \"outliers.\")\n",
    "\n",
    "# Explain outliers\n",
    "print(\"Outliers might indicate extreme daily price changes, possibly caused by significant market events.\")"
   ]
  },
  {
   "cell_type": "markdown",
   "id": "1e980de0",
   "metadata": {},
   "source": [
    "**Explaination of code:**\n",
    "\n",
    "**1. Count Outliers Using Vectorized Relational Operators:**\n",
    "\n",
    "This line uses NumPy's vectorized relational operators to identify outliers in the **_price_changes_** array based on the interquartile range (IQR) criterion. It counts the number of outliers by summing the boolean values generated by the condition.\n",
    "\n",
    "**2. Print the Number of Outliers:**\n",
    "\n",
    "This line prints the number of outliers determined in the previous step. The output provides information about the presence and quantity of extreme values in the daily price changes.\n",
    "\n",
    "**3. Explain Outliers:**\n",
    "\n",
    "This line prints an explanatory statement regarding the potential meaning of outliers. It suggests that outliers in daily price changes could be indicative of substantial market events that led to extreme price movements.\n",
    "\n",
    "In summary, this code assesses the number of outliers in the distribution of BTC-to-USD daily price changes and provides a contextual explanation for what these outliers signify in the context of cryptocurrency markets."
   ]
  },
  {
   "cell_type": "markdown",
   "id": "434763e9",
   "metadata": {},
   "source": [
    "### Conclusion:\n"
   ]
  },
  {
   "cell_type": "markdown",
   "id": "6adae0f2",
   "metadata": {},
   "source": [
    "In conclusion, this analysis offers a comprehensive view of BTC-to-USD daily price changes in Q3 2023. The statistical measures, visualizations, and outlier analysis provide valuable insights for investors and analysts interested in understanding the market dynamics during this specific timeframe. Possible extensions of this analysis could involve more sophisticated modeling or incorporating external factors that might influence cryptocurrency prices."
   ]
  },
  {
   "cell_type": "markdown",
   "id": "9e695a74",
   "metadata": {},
   "source": [
    "### Intended Learning Outcomes"
   ]
  },
  {
   "cell_type": "markdown",
   "id": "91a756b6",
   "metadata": {},
   "source": [
    "This report aligns with several Intended Learning Outcomes (ULOs), including Data Processing/Wrangling, Data Discovery/Extraction, Requirement Analysis/Data Sources, Exploratory Data Analysis, and considerations for Data Privacy and Ethics."
   ]
  },
  {
   "cell_type": "code",
   "execution_count": null,
   "id": "2f239bdf",
   "metadata": {},
   "outputs": [],
   "source": []
  }
 ],
 "metadata": {
  "kernelspec": {
   "display_name": "Python 3 (ipykernel)",
   "language": "python",
   "name": "python3"
  },
  "language_info": {
   "codemirror_mode": {
    "name": "ipython",
    "version": 3
   },
   "file_extension": ".py",
   "mimetype": "text/x-python",
   "name": "python",
   "nbconvert_exporter": "python",
   "pygments_lexer": "ipython3",
   "version": "3.12.7"
  }
 },
 "nbformat": 4,
 "nbformat_minor": 5
}
